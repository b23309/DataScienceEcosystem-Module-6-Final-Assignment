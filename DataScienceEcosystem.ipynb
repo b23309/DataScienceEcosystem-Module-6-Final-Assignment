{
  "metadata": {
    "kernelspec": {
      "name": "python",
      "display_name": "Python (Pyodide)",
      "language": "python"
    },
    "language_info": {
      "codemirror_mode": {
        "name": "python",
        "version": 3
      },
      "file_extension": ".py",
      "mimetype": "text/x-python",
      "name": "python",
      "nbconvert_exporter": "python",
      "pygments_lexer": "ipython3",
      "version": "3.8"
    }
  },
  "nbformat_minor": 4,
  "nbformat": 4,
  "cells": [
    {
      "cell_type": "markdown",
      "source": "# Data Science Tools and Ecosystem",
      "metadata": {}
    },
    {
      "cell_type": "markdown",
      "source": "### In this notebook, Data Science Tools and Ecosystem are summarized.",
      "metadata": {}
    },
    {
      "cell_type": "markdown",
      "source": "Objectives:\n1. List popular languages for Data Science\n2. List popular Libraries that Data Scientists use\n3. List popular Data Science Tools\n4. Performing Arithmetic Operations of Addition and Multiplication\n5. Converting Minutes to Hours",
      "metadata": {}
    },
    {
      "cell_type": "markdown",
      "source": "Some of the popular languages that Data Scientists use are:\n1. Python\n2. R\n3. SQL",
      "metadata": {}
    },
    {
      "cell_type": "markdown",
      "source": "Some of the commonly used libraries used by Data Scientists include:\n1. Pandas\n2. Matplotlib\n3. NumPy\n4. SciPy",
      "metadata": {}
    },
    {
      "cell_type": "markdown",
      "source": "<div style=\"flex: 50%; padding: 10px;\">\n    <strong>Data Science Tools</strong>\n        <li>Jupyter Notebook</li>\n        <li>RStudio</li>\n        <li>Google Collab</li>\n</div>",
      "metadata": {}
    },
    {
      "cell_type": "code",
      "source": "# This a simple arithmetic expression to multiply then add integers\nx = (3*4)+5\nprint(x)",
      "metadata": {
        "trusted": true
      },
      "outputs": [
        {
          "name": "stdout",
          "text": "17\n",
          "output_type": "stream"
        }
      ],
      "execution_count": 8
    },
    {
      "cell_type": "code",
      "source": "# This will convert 200 minutes to hours by diving by 60\nMinutes = 200\nHours = Minutes/60\nprint(Hours)",
      "metadata": {
        "trusted": true
      },
      "outputs": [
        {
          "name": "stdout",
          "text": "3.3333333333333335\n",
          "output_type": "stream"
        }
      ],
      "execution_count": 11
    },
    {
      "cell_type": "markdown",
      "source": "## Author\nAmit Rathi",
      "metadata": {}
    }
  ]
}